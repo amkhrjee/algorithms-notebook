{
 "cells": [
  {
   "attachments": {},
   "cell_type": "markdown",
   "id": "dffa0715-cedd-456f-9a67-cc867da99203",
   "metadata": {},
   "source": [
    "# Sorting Algorithms\n",
    "This notebook aims to be a reference manual to different kinds of sorting algorithms. This notebook should be used for academic purposes only. \n",
    "We shall start with the simplest of the algorthims and slowly make our way to the more involved ones. \n",
    "\n",
    "## Useful Resources\n",
    "\n",
    "#### 📺 Videos\n",
    "\n",
    "- [Why is Radix Sort so fast? Miniseries by Creel](https://youtube.com/playlist?list=PLP-tTFRnLIX_3Y8lugE7nfMZq1y17UhLX)\n",
    "\n",
    "#### 📚Books\n",
    "\n",
    "- [Introduction to Algorithms by CLRS](https://mitpress.mit.edu/9780262046305/introduction-to-algorithms/)"
   ]
  },
  {
   "cell_type": "code",
   "execution_count": 1,
   "id": "223b5bdc-9417-4f92-99e5-ec4df66c38f2",
   "metadata": {},
   "outputs": [],
   "source": [
    "# Common imports\n",
    "import random"
   ]
  },
  {
   "attachments": {},
   "cell_type": "markdown",
   "id": "6ea4d950-131e-4438-979d-22b017bc314c",
   "metadata": {},
   "source": [
    "## Bogosort\n",
    "As the name suggests, it is a \"bogous\" sort that is more of a running joke than an algorithm. It has a complexity of $O(n!)$. It simply checks all permutations of the array until it's sorted."
   ]
  },
  {
   "cell_type": "code",
   "execution_count": 2,
   "id": "0322aa2c-831d-4e85-985d-bd074a8c498d",
   "metadata": {},
   "outputs": [
    {
     "name": "stdout",
     "output_type": "stream",
     "text": [
      "Sample array =  [8, 78, 14, 70, 4, 25, 84, 12, 60, 60]\n"
     ]
    },
    {
     "data": {
      "text/plain": [
       "[4, 8, 12, 14, 25, 60, 60, 70, 78, 84]"
      ]
     },
     "execution_count": 2,
     "metadata": {},
     "output_type": "execute_result"
    }
   ],
   "source": [
    "arr = [random.randint(0, 100) for _ in range(10)]\n",
    "print(\"Sample array = \", arr)\n",
    "def bogosort(arr):\n",
    "    sorted = False\n",
    "    while not sorted:\n",
    "        random.shuffle(arr)\n",
    "        sorted = True\n",
    "        for i in range(1, len(arr)):\n",
    "            if arr[i-1] > arr[i]:\n",
    "                sorted = False\n",
    "                break\n",
    "    return arr\n",
    "bogosort(arr)"
   ]
  },
  {
   "attachments": {},
   "cell_type": "markdown",
   "id": "7fbd76ac-1748-4df2-8fd8-7e79a63f6037",
   "metadata": {},
   "source": [
    "## Bubble Sort\n",
    "Bubble sort is the simplest of the sorting algorithms. It is also very inefficient, at least for noiseless sorting applications. \n",
    "This algorithm simply goes over the array $n$ times as the smallest values 'bubble up' from the rest of the array elements. It stops when all the items are sorted."
   ]
  },
  {
   "cell_type": "code",
   "execution_count": 3,
   "id": "38609d9a-2744-40f1-b775-22a848466ffb",
   "metadata": {},
   "outputs": [
    {
     "name": "stdout",
     "output_type": "stream",
     "text": [
      "Sample array =  [82, 47, 26, 65, 17, 42, 28, 84, 53, 12]\n"
     ]
    },
    {
     "data": {
      "text/plain": [
       "[12, 17, 26, 28, 42, 47, 53, 65, 82, 84]"
      ]
     },
     "execution_count": 3,
     "metadata": {},
     "output_type": "execute_result"
    }
   ],
   "source": [
    "arr = [random.randint(0, 100) for _ in range(10)]\n",
    "print(\"Sample array = \", arr)\n",
    "def bubblesort(arr):\n",
    "    n = len(arr)\n",
    "    for i in range(n):\n",
    "        for j in range(n-i-1):\n",
    "            if arr[j] > arr[j+1]:\n",
    "                arr[j], arr[j+1] = arr[j+1], arr[j]\n",
    "    return arr\n",
    "                \n",
    "bubblesort(arr)"
   ]
  },
  {
   "attachments": {},
   "cell_type": "markdown",
   "id": "12388bea-78f2-4e75-b17f-6fdbd3592d0f",
   "metadata": {},
   "source": [
    "Bubble sort is a $O(n^2)$ in-place sorting algorithm. "
   ]
  },
  {
   "attachments": {},
   "cell_type": "markdown",
   "id": "69c9668d-df55-4f56-ae0a-3bad5dffb5ef",
   "metadata": {},
   "source": [
    "## Selection Sort\n",
    "Selection sort \"selects\" the  minimum/maximum element from the array and places them in the sorted array. "
   ]
  },
  {
   "cell_type": "code",
   "execution_count": 4,
   "id": "8a1611d3-4056-4bb6-83ce-0fe836620033",
   "metadata": {},
   "outputs": [
    {
     "name": "stdout",
     "output_type": "stream",
     "text": [
      "Sample array =  [94, 23, 1, 25, 7, 65, 51, 0, 77, 22]\n"
     ]
    },
    {
     "data": {
      "text/plain": [
       "[0, 1, 7, 22, 23, 25, 51, 65, 77, 94]"
      ]
     },
     "execution_count": 4,
     "metadata": {},
     "output_type": "execute_result"
    }
   ],
   "source": [
    "arr = [random.randint(0, 100) for _ in range(10)]\n",
    "print(\"Sample array = \", arr)\n",
    "def selectionsort(arr):\n",
    "    n = len(arr)\n",
    "    for i in range(n):\n",
    "        max = -float('inf')\n",
    "        for j in range(n - i):\n",
    "            if arr[j] > max:\n",
    "                max = arr[j]\n",
    "                max_index = j\n",
    "        arr[max_index], arr[n - i - 1] = arr[n - i - 1], arr[max_index]\n",
    "    return arr\n",
    "\n",
    "selectionsort(arr)"
   ]
  },
  {
   "attachments": {},
   "cell_type": "markdown",
   "id": "06f5029e-2d53-4099-9c7f-88d09c1722cb",
   "metadata": {},
   "source": [
    "Selection sort is also an $O(n^2)$ in-place sort."
   ]
  },
  {
   "attachments": {},
   "cell_type": "markdown",
   "id": "c79872bc-86c0-4830-9ea1-9044588702ef",
   "metadata": {},
   "source": [
    "## Insertion sort\n",
    "Insertion sort \"inserts\" appropriate values to an already sorted array. As an inital case, it assumes that the first element is already sorted."
   ]
  },
  {
   "cell_type": "code",
   "execution_count": 5,
   "id": "af195ed9-37a1-45a8-930b-01d2fce56b36",
   "metadata": {},
   "outputs": [
    {
     "name": "stdout",
     "output_type": "stream",
     "text": [
      "Sample array =  [59, 39, 100, 64, 62, 68, 1, 38, 55, 10]\n"
     ]
    },
    {
     "data": {
      "text/plain": [
       "[1, 10, 38, 39, 55, 59, 62, 64, 68, 100]"
      ]
     },
     "execution_count": 5,
     "metadata": {},
     "output_type": "execute_result"
    }
   ],
   "source": [
    "arr = [random.randint(0, 100) for _ in range(10)]\n",
    "print(\"Sample array = \", arr)\n",
    "def insertionsort(arr):\n",
    "    n = len(arr)\n",
    "    for i in range(n):\n",
    "        min = float('inf')\n",
    "        for j in range(i, n):\n",
    "            if arr[j] < min:\n",
    "                min = arr[j]\n",
    "                arr[j], arr[i] = arr[i], arr[j]\n",
    "    return arr\n",
    "\n",
    "insertionsort(arr)"
   ]
  },
  {
   "attachments": {},
   "cell_type": "markdown",
   "id": "7c27e9ff-41b6-450f-bd40-0f04f2babe98",
   "metadata": {},
   "source": [
    "This is also an $O(n^2)$ algorithm."
   ]
  },
  {
   "attachments": {},
   "cell_type": "markdown",
   "id": "9400ab76-17f1-4aa3-ab80-7b93a0954324",
   "metadata": {},
   "source": [
    "## Merge Sort\n",
    "This is a classic divide-and-conquer algorithm that divides the array into two subarrays at each stage. \n",
    "This algorithm has the following recurrence relation: $$T(n) = 2T(n/2) + O(n)$$\n",
    "\n",
    "Using master's theorem, we can solve this recurrence to be $O(n \\log n)$, thus making this our first logartithmic time algorithm here. In fact, this is the lower bound for sorting algorithms."
   ]
  },
  {
   "cell_type": "code",
   "execution_count": 6,
   "id": "406fa60d-624e-4bdc-8eb7-bee8742bc18d",
   "metadata": {},
   "outputs": [
    {
     "name": "stdout",
     "output_type": "stream",
     "text": [
      "Sample array =  [8, 46, 68, 11, 7, 30, 96, 96, 53, 40]\n"
     ]
    },
    {
     "data": {
      "text/plain": [
       "[7, 8, 11, 30, 40, 46, 53, 68, 96, 96]"
      ]
     },
     "execution_count": 6,
     "metadata": {},
     "output_type": "execute_result"
    }
   ],
   "source": [
    "arr = [random.randint(0, 100) for _ in range(10)]\n",
    "print(\"Sample array = \", arr)\n",
    "def merge(left, right):\n",
    "    merged = []\n",
    "    i = 0\n",
    "    j = 0\n",
    "    while i < len(left) and j < len(right):\n",
    "        if left[i] <= right[j]:\n",
    "            merged.append(left[i])\n",
    "            i += 1\n",
    "        else:\n",
    "            merged.append(right[j])\n",
    "            j += 1\n",
    "            \n",
    "    while i < len(left):\n",
    "        merged.append(left[i])\n",
    "        i += 1\n",
    "    while j < len(right):\n",
    "        merged.append(right[j])\n",
    "        j += 1\n",
    "        \n",
    "    return merged\n",
    "    \n",
    "def mergesort(arr):\n",
    "    if len(arr) == 1:\n",
    "        return arr\n",
    "    mid = len(arr) // 2\n",
    "    left_half = arr[:mid]\n",
    "    right_half = arr[mid:]\n",
    "\n",
    "    left_half = mergesort(left_half)\n",
    "    right_half = mergesort(right_half)\n",
    "    return merge(left_half, right_half)\n",
    "\n",
    "mergesort(arr)"
   ]
  },
  {
   "attachments": {},
   "cell_type": "markdown",
   "id": "f35e5311",
   "metadata": {},
   "source": [
    "## Heapsort\n",
    "Heap sort is basically selection sort using a min/max heap as the data structure instead of a plain array.\n",
    "Python has an inbuilt library for heap, therfore, we will show this algorithm with that. Building the heap takes $O(n \\log n)$ time, and each pop operation takes $O(\\log n)$ time, thus making this algorithm an $O(n \\log n)$.\n",
    "\n",
    "### Using `heapq`"
   ]
  },
  {
   "cell_type": "code",
   "execution_count": 7,
   "id": "d78005c8",
   "metadata": {},
   "outputs": [
    {
     "name": "stdout",
     "output_type": "stream",
     "text": [
      "Sample array =  [0, 3, 56, 57, 59, 98, 6, 34, 43, 90]\n"
     ]
    },
    {
     "data": {
      "text/plain": [
       "[0, 3, 6, 34, 43, 56, 57, 59, 90, 98]"
      ]
     },
     "execution_count": 7,
     "metadata": {},
     "output_type": "execute_result"
    }
   ],
   "source": [
    "arr = [random.randint(0, 100) for _ in range(10)]\n",
    "print(\"Sample array = \", arr)\n",
    "\n",
    "def heapsort(arr):\n",
    "    import heapq\n",
    "    heapq.heapify(arr)\n",
    "    sorted_arr = []\n",
    "    while len(arr):\n",
    "        sorted_arr.append(heapq.heappop(arr))\n",
    "    return sorted_arr\n",
    "\n",
    "heapsort(arr)"
   ]
  },
  {
   "attachments": {},
   "cell_type": "markdown",
   "id": "5e594fc4",
   "metadata": {},
   "source": [
    "## Quick sort\n",
    "Quick sort is a randomized algorithm with an average time complexity of $O(n \\log n)$. However, in worst case, which is rare, it has a time complexity of $O(n^2)$. The heart of an efficient quicksorrrt implentation lies in the partitioning technique employed. There are two partitioning techniques mentioned in CLRS - Lomuto and Hoare. Other than pedagogical values, the [Lomuto partitioning scheme has little advantage over Hoare](https://cs.stackexchange.com/questions/11458/quicksort-partitioning-hoare-vs-lomuto). "
   ]
  },
  {
   "cell_type": "code",
   "execution_count": 8,
   "id": "f9495cbd",
   "metadata": {},
   "outputs": [
    {
     "name": "stdout",
     "output_type": "stream",
     "text": [
      "Sample array =  [36, 4, 35, 94, 41, 50, 58, 11, 40, 11]\n",
      "[4, 11, 11, 35, 36, 40, 41, 50, 58, 94]\n"
     ]
    }
   ],
   "source": [
    "arr = [random.randint(0, 100) for _ in range(10)]\n",
    "print(\"Sample array = \", arr)\n",
    "\n",
    "def random_partition(arr, start_index, end_index):\n",
    "    i = random.randint(start_index, end_index)\n",
    "    arr[i], arr[end_index] = arr[end_index], arr[i]\n",
    "    return partition(arr, start_index, end_index)\n",
    "\n",
    "def partition(arr, start_index, end_index):\n",
    "    x = arr[end_index]\n",
    "    i = start_index - 1\n",
    "    for j in range(start_index, end_index):\n",
    "        if arr[j] <= x:\n",
    "            i += 1\n",
    "            arr[i], arr[j] = arr[j], arr[i]\n",
    "    arr[i+1], arr[end_index] = arr[end_index], arr[i + 1]\n",
    "    return i + 1\n",
    "\n",
    "def quicksort(arr, start_index, end_index):\n",
    "    if start_index < end_index:\n",
    "        pivot_index = random_partition(arr, start_index, end_index)\n",
    "        quicksort(arr, start_index, pivot_index - 1)\n",
    "        quicksort(arr, pivot_index + 1, end_index)\n",
    "\n",
    "quicksort(arr, 0, len(arr) - 1)\n",
    "print(arr)"
   ]
  },
  {
   "attachments": {},
   "cell_type": "markdown",
   "id": "60a65e4a",
   "metadata": {},
   "source": [
    "## Counting Sort\n",
    "Till now, we have only seen comparison bases sorts. Now let's dive into a non-comparison bases sorting technique. Counting sort works best for arrays with a small range of values. It has a time complexity of $O(n)$. It's only drawback is the auxilary space required sort arrays with a wide range of values."
   ]
  },
  {
   "cell_type": "code",
   "execution_count": 9,
   "id": "29124d1f",
   "metadata": {},
   "outputs": [
    {
     "name": "stdout",
     "output_type": "stream",
     "text": [
      "Sample array = [29, 17, 38, 6, 48, 99, 66, 22, 20, 94]\n"
     ]
    },
    {
     "data": {
      "text/plain": [
       "[6, 17, 20, 22, 29, 38, 48, 66, 94, 99]"
      ]
     },
     "execution_count": 9,
     "metadata": {},
     "output_type": "execute_result"
    }
   ],
   "source": [
    "arr = [random.randint(0, 100) for _ in range(10)]\n",
    "print(\"Sample array =\", arr)\n",
    "\n",
    "def countingsort(arr):\n",
    "    num_bucket = [0 for _ in range(max(arr) + 1)]\n",
    "    for each_num in arr:\n",
    "        num_bucket[each_num] += 1\n",
    "    \n",
    "    sorted_arr = []\n",
    "    for i in range(len(num_bucket)):\n",
    "        if num_bucket[i] > 0:\n",
    "            sorted_arr.extend([i for _ in range(num_bucket[i])])\n",
    "    \n",
    "    return sorted_arr\n",
    "\n",
    "countingsort(arr)"
   ]
  },
  {
   "attachments": {},
   "cell_type": "markdown",
   "id": "07107771",
   "metadata": {},
   "source": [
    "## Radix Sort\n",
    "Radix sort is a non-comparison based sort that relies on digits or radix. It has a time-complxity of $O(k \\cdot n)$ where $k$ is the number of digits in the elements and $n$ is the number of elements."
   ]
  },
  {
   "cell_type": "code",
   "execution_count": 10,
   "id": "7f381da5",
   "metadata": {},
   "outputs": [
    {
     "name": "stdout",
     "output_type": "stream",
     "text": [
      "Sample array = [32, 72, 49, 75, 6, 37, 86, 67, 37, 85]\n"
     ]
    },
    {
     "data": {
      "text/plain": [
       "[6, 32, 37, 37, 49, 67, 72, 75, 85, 86]"
      ]
     },
     "execution_count": 10,
     "metadata": {},
     "output_type": "execute_result"
    }
   ],
   "source": [
    "arr = [random.randint(0, 100) for _ in range(10)]\n",
    "print(\"Sample array =\", arr)\n",
    "\n",
    "def radixsort(arr):\n",
    "    for digit_index in range(len(str(max(arr)))):\n",
    "        output = [0 for _ in range(len(arr))]\n",
    "        digit_bucket = [0 for _ in range(10)]\n",
    "        for each_item in arr:\n",
    "            digit = (each_item // 10 ** digit_index) % 10\n",
    "            digit_bucket[digit] += 1\n",
    "\n",
    "        # prefix sum\n",
    "        for i in range(1, 10):\n",
    "            digit_bucket[i] += digit_bucket[i - 1]\n",
    "\n",
    "        for each_num in reversed(arr):\n",
    "            digit = (each_num // 10 ** digit_index) % 10\n",
    "            output[digit_bucket[digit] - 1] = each_num\n",
    "            digit_bucket[digit] -= 1\n",
    "        arr = output\n",
    "    return arr\n",
    "\n",
    "radixsort(arr)"
   ]
  },
  {
   "attachments": {},
   "cell_type": "markdown",
   "id": "6d4109fe",
   "metadata": {},
   "source": [
    "## Topological Sort\n",
    "We do topolgical sort or topsort for short on Directed Acyclic Graphs (DAGs). It is the topological ordering of nodes with respect to their dependence on each other. Topological sort has many important practical applications including scheduling and dependency management. Topsort of a given DAG is not uniqie however. Any DAG has at least one topological ordering. The usual running time for topsort algorithms is $O(|V| + |E|)$. We will be looking into [Kahn's algorithm](https://en.wikipedia.org/wiki/Topological_sorting#Kahn's_algorithm) here.\n",
    "\n",
    "We perform topsort on the following DAG (courtesy: [William Fiset](https://youtu.be/cIBFEhD77b4))\n",
    "\n",
    "<img src=\"res/dag.png\" alt=\"DAG\" width=500>\n",
    "<!-- ![DAG](res/dag.png) -->"
   ]
  },
  {
   "cell_type": "code",
   "execution_count": 11,
   "id": "0525a61f",
   "metadata": {},
   "outputs": [
    {
     "name": "stdout",
     "output_type": "stream",
     "text": [
      "[0, 9, 13, 0, 3, 9, 13, 2, 10, 1, 6, 4, 7, 11, 5, 12, 8]\n"
     ]
    }
   ],
   "source": [
    "# We define a DAG as an adjacency list with each vertex containing list of vertices an edge is incoming from\n",
    "dag = {\n",
    "    0  : [],\n",
    "    1  : [3],\n",
    "    2  : [0, 9],\n",
    "    3  : [0],\n",
    "    4  : [1, 3],\n",
    "    5  : [4],\n",
    "    6  : [0, 2, 10],\n",
    "    7  : [6],\n",
    "    8  : [4, 12],\n",
    "    9  : [],\n",
    "    10 : [9],\n",
    "    11 : [6],\n",
    "    12 : [7, 11],\n",
    "    13 : []\n",
    "}\n",
    "\n",
    "def topsort(dag):\n",
    "    from collections import deque\n",
    "    sorted_list = []\n",
    "    vert_with_no_incoming_edges = deque([])\n",
    "\n",
    "    for each_vertex in dag:\n",
    "        if len(dag[each_vertex]) == 0:\n",
    "            vert_with_no_incoming_edges.append(each_vertex)\n",
    "    while len(vert_with_no_incoming_edges) > 0: \n",
    "        vertex = vert_with_no_incoming_edges.popleft()\n",
    "        sorted_list.append(vertex)\n",
    "        for each_vertex in dag:\n",
    "            if dag[each_vertex] is not None:\n",
    "                if vertex in dag[each_vertex]:\n",
    "                    dag[each_vertex].remove(vertex)\n",
    "                if len(dag[each_vertex]) == 0:\n",
    "                    dag[each_vertex] = None\n",
    "                    vert_with_no_incoming_edges.append(each_vertex)\n",
    "    return sorted_list\n",
    "\n",
    "print(topsort(dag))\n"
   ]
  },
  {
   "attachments": {},
   "cell_type": "markdown",
   "id": "63f86ab3",
   "metadata": {},
   "source": [
    "## Performance Comparison"
   ]
  },
  {
   "cell_type": "code",
   "execution_count": 13,
   "id": "eccb8c27",
   "metadata": {},
   "outputs": [
    {
     "ename": "ValueError",
     "evalue": "x and y must have same first dimension, but have shapes (9,) and (0,)",
     "output_type": "error",
     "traceback": [
      "\u001b[1;31m---------------------------------------------------------------------------\u001b[0m",
      "\u001b[1;31mValueError\u001b[0m                                Traceback (most recent call last)",
      "Cell \u001b[1;32mIn[13], line 152\u001b[0m\n\u001b[0;32m    149\u001b[0m radix_time \u001b[39m=\u001b[39m [result\u001b[39m.\u001b[39mget() \u001b[39mfor\u001b[39;00m result \u001b[39min\u001b[39;00m radixsort_results]\n\u001b[0;32m    151\u001b[0m plt\u001b[39m.\u001b[39mfigure(figsize\u001b[39m=\u001b[39m(\u001b[39m30\u001b[39m, \u001b[39m10\u001b[39m))\n\u001b[1;32m--> 152\u001b[0m plt\u001b[39m.\u001b[39;49mplot(bubble_input, bubble_time, color\u001b[39m=\u001b[39;49m\u001b[39m\"\u001b[39;49m\u001b[39mblue\u001b[39;49m\u001b[39m\"\u001b[39;49m, label\u001b[39m=\u001b[39;49m\u001b[39m\"\u001b[39;49m\u001b[39mBubble sort\u001b[39;49m\u001b[39m\"\u001b[39;49m)\n\u001b[0;32m    153\u001b[0m plt\u001b[39m.\u001b[39mplot(insertion_input, insertion_time, color\u001b[39m=\u001b[39m\u001b[39m\"\u001b[39m\u001b[39mgreen\u001b[39m\u001b[39m\"\u001b[39m, label\u001b[39m=\u001b[39m\u001b[39m\"\u001b[39m\u001b[39mInsertion sort\u001b[39m\u001b[39m\"\u001b[39m)\n\u001b[0;32m    154\u001b[0m plt\u001b[39m.\u001b[39mplot(selection_input, selection_time, color\u001b[39m=\u001b[39m\u001b[39m\"\u001b[39m\u001b[39mred\u001b[39m\u001b[39m\"\u001b[39m, label\u001b[39m=\u001b[39m\u001b[39m\"\u001b[39m\u001b[39mSelection sort\u001b[39m\u001b[39m\"\u001b[39m)\n",
      "File \u001b[1;32m~\\AppData\\Local\\Packages\\PythonSoftwareFoundation.Python.3.10_qbz5n2kfra8p0\\LocalCache\\local-packages\\Python310\\site-packages\\matplotlib\\pyplot.py:2812\u001b[0m, in \u001b[0;36mplot\u001b[1;34m(scalex, scaley, data, *args, **kwargs)\u001b[0m\n\u001b[0;32m   2810\u001b[0m \u001b[39m@_copy_docstring_and_deprecators\u001b[39m(Axes\u001b[39m.\u001b[39mplot)\n\u001b[0;32m   2811\u001b[0m \u001b[39mdef\u001b[39;00m \u001b[39mplot\u001b[39m(\u001b[39m*\u001b[39margs, scalex\u001b[39m=\u001b[39m\u001b[39mTrue\u001b[39;00m, scaley\u001b[39m=\u001b[39m\u001b[39mTrue\u001b[39;00m, data\u001b[39m=\u001b[39m\u001b[39mNone\u001b[39;00m, \u001b[39m*\u001b[39m\u001b[39m*\u001b[39mkwargs):\n\u001b[1;32m-> 2812\u001b[0m     \u001b[39mreturn\u001b[39;00m gca()\u001b[39m.\u001b[39mplot(\n\u001b[0;32m   2813\u001b[0m         \u001b[39m*\u001b[39margs, scalex\u001b[39m=\u001b[39mscalex, scaley\u001b[39m=\u001b[39mscaley,\n\u001b[0;32m   2814\u001b[0m         \u001b[39m*\u001b[39m\u001b[39m*\u001b[39m({\u001b[39m\"\u001b[39m\u001b[39mdata\u001b[39m\u001b[39m\"\u001b[39m: data} \u001b[39mif\u001b[39;00m data \u001b[39mis\u001b[39;00m \u001b[39mnot\u001b[39;00m \u001b[39mNone\u001b[39;00m \u001b[39melse\u001b[39;00m {}), \u001b[39m*\u001b[39m\u001b[39m*\u001b[39mkwargs)\n",
      "File \u001b[1;32m~\\AppData\\Local\\Packages\\PythonSoftwareFoundation.Python.3.10_qbz5n2kfra8p0\\LocalCache\\local-packages\\Python310\\site-packages\\matplotlib\\axes\\_axes.py:1688\u001b[0m, in \u001b[0;36mAxes.plot\u001b[1;34m(self, scalex, scaley, data, *args, **kwargs)\u001b[0m\n\u001b[0;32m   1445\u001b[0m \u001b[39m\u001b[39m\u001b[39m\"\"\"\u001b[39;00m\n\u001b[0;32m   1446\u001b[0m \u001b[39mPlot y versus x as lines and/or markers.\u001b[39;00m\n\u001b[0;32m   1447\u001b[0m \n\u001b[1;32m   (...)\u001b[0m\n\u001b[0;32m   1685\u001b[0m \u001b[39m(``'green'``) or hex strings (``'#008000'``).\u001b[39;00m\n\u001b[0;32m   1686\u001b[0m \u001b[39m\"\"\"\u001b[39;00m\n\u001b[0;32m   1687\u001b[0m kwargs \u001b[39m=\u001b[39m cbook\u001b[39m.\u001b[39mnormalize_kwargs(kwargs, mlines\u001b[39m.\u001b[39mLine2D)\n\u001b[1;32m-> 1688\u001b[0m lines \u001b[39m=\u001b[39m [\u001b[39m*\u001b[39m\u001b[39mself\u001b[39m\u001b[39m.\u001b[39m_get_lines(\u001b[39m*\u001b[39margs, data\u001b[39m=\u001b[39mdata, \u001b[39m*\u001b[39m\u001b[39m*\u001b[39mkwargs)]\n\u001b[0;32m   1689\u001b[0m \u001b[39mfor\u001b[39;00m line \u001b[39min\u001b[39;00m lines:\n\u001b[0;32m   1690\u001b[0m     \u001b[39mself\u001b[39m\u001b[39m.\u001b[39madd_line(line)\n",
      "File \u001b[1;32m~\\AppData\\Local\\Packages\\PythonSoftwareFoundation.Python.3.10_qbz5n2kfra8p0\\LocalCache\\local-packages\\Python310\\site-packages\\matplotlib\\axes\\_base.py:311\u001b[0m, in \u001b[0;36m_process_plot_var_args.__call__\u001b[1;34m(self, data, *args, **kwargs)\u001b[0m\n\u001b[0;32m    309\u001b[0m     this \u001b[39m+\u001b[39m\u001b[39m=\u001b[39m args[\u001b[39m0\u001b[39m],\n\u001b[0;32m    310\u001b[0m     args \u001b[39m=\u001b[39m args[\u001b[39m1\u001b[39m:]\n\u001b[1;32m--> 311\u001b[0m \u001b[39myield from\u001b[39;00m \u001b[39mself\u001b[39;49m\u001b[39m.\u001b[39;49m_plot_args(\n\u001b[0;32m    312\u001b[0m     this, kwargs, ambiguous_fmt_datakey\u001b[39m=\u001b[39;49mambiguous_fmt_datakey)\n",
      "File \u001b[1;32m~\\AppData\\Local\\Packages\\PythonSoftwareFoundation.Python.3.10_qbz5n2kfra8p0\\LocalCache\\local-packages\\Python310\\site-packages\\matplotlib\\axes\\_base.py:504\u001b[0m, in \u001b[0;36m_process_plot_var_args._plot_args\u001b[1;34m(self, tup, kwargs, return_kwargs, ambiguous_fmt_datakey)\u001b[0m\n\u001b[0;32m    501\u001b[0m     \u001b[39mself\u001b[39m\u001b[39m.\u001b[39maxes\u001b[39m.\u001b[39myaxis\u001b[39m.\u001b[39mupdate_units(y)\n\u001b[0;32m    503\u001b[0m \u001b[39mif\u001b[39;00m x\u001b[39m.\u001b[39mshape[\u001b[39m0\u001b[39m] \u001b[39m!=\u001b[39m y\u001b[39m.\u001b[39mshape[\u001b[39m0\u001b[39m]:\n\u001b[1;32m--> 504\u001b[0m     \u001b[39mraise\u001b[39;00m \u001b[39mValueError\u001b[39;00m(\u001b[39mf\u001b[39m\u001b[39m\"\u001b[39m\u001b[39mx and y must have same first dimension, but \u001b[39m\u001b[39m\"\u001b[39m\n\u001b[0;32m    505\u001b[0m                      \u001b[39mf\u001b[39m\u001b[39m\"\u001b[39m\u001b[39mhave shapes \u001b[39m\u001b[39m{\u001b[39;00mx\u001b[39m.\u001b[39mshape\u001b[39m}\u001b[39;00m\u001b[39m and \u001b[39m\u001b[39m{\u001b[39;00my\u001b[39m.\u001b[39mshape\u001b[39m}\u001b[39;00m\u001b[39m\"\u001b[39m)\n\u001b[0;32m    506\u001b[0m \u001b[39mif\u001b[39;00m x\u001b[39m.\u001b[39mndim \u001b[39m>\u001b[39m \u001b[39m2\u001b[39m \u001b[39mor\u001b[39;00m y\u001b[39m.\u001b[39mndim \u001b[39m>\u001b[39m \u001b[39m2\u001b[39m:\n\u001b[0;32m    507\u001b[0m     \u001b[39mraise\u001b[39;00m \u001b[39mValueError\u001b[39;00m(\u001b[39mf\u001b[39m\u001b[39m\"\u001b[39m\u001b[39mx and y can be no greater than 2D, but have \u001b[39m\u001b[39m\"\u001b[39m\n\u001b[0;32m    508\u001b[0m                      \u001b[39mf\u001b[39m\u001b[39m\"\u001b[39m\u001b[39mshapes \u001b[39m\u001b[39m{\u001b[39;00mx\u001b[39m.\u001b[39mshape\u001b[39m}\u001b[39;00m\u001b[39m and \u001b[39m\u001b[39m{\u001b[39;00my\u001b[39m.\u001b[39mshape\u001b[39m}\u001b[39;00m\u001b[39m\"\u001b[39m)\n",
      "\u001b[1;31mValueError\u001b[0m: x and y must have same first dimension, but have shapes (9,) and (0,)"
     ]
    },
    {
     "data": {
      "image/png": "[encoded data removed]",
      "text/plain": [
       "<Figure size 3000x1000 with 1 Axes>"
      ]
     },
     "metadata": {},
     "output_type": "display_data"
    }
   ],
   "source": [
    "import time\n",
    "import multiprocessing\n",
    "import matplotlib.pyplot as plt\n",
    "\n",
    "test_cases = 10\n",
    "\n",
    "bubble_input = []\n",
    "bubble_time = []\n",
    "\n",
    "selection_input = []\n",
    "selection_time = [] \n",
    "\n",
    "insertion_input = []\n",
    "insertion_time = []\n",
    "\n",
    "merge_input = []\n",
    "merge_time = []\n",
    "\n",
    "heap_input = []\n",
    "heap_time = []\n",
    "\n",
    "quick_input = []\n",
    "quick_time = []\n",
    "\n",
    "counting_input = []\n",
    "counting_time = []\n",
    "\n",
    "radix_time = []\n",
    "radix_input = []\n",
    "\n",
    "\n",
    "def bubblesort_worker(arr, time_list):\n",
    "    start_time = time.perf_counter()\n",
    "    bubblesort(arr)\n",
    "    end_time = time.perf_counter()\n",
    "    time_function = end_time - start_time\n",
    "    time_list.append(time_function)\n",
    "\n",
    "def selectionsort_worker(arr, time_list):\n",
    "    start_time = time.perf_counter()\n",
    "    selectionsort(arr)\n",
    "    end_time = time.perf_counter()\n",
    "    time_function = end_time - start_time\n",
    "    time_list.append(time_function)\n",
    "\n",
    "def insertionsort_worker(arr, time_list):\n",
    "    start_time = time.perf_counter()\n",
    "    insertionsort(arr)\n",
    "    end_time = time.perf_counter()\n",
    "    time_function = end_time - start_time\n",
    "    time_list.append(time_function)\n",
    "\n",
    "def mergesort_worker(arr, time_list):\n",
    "    start_time = time.perf_counter()\n",
    "    mergesort(arr)\n",
    "    end_time = time.perf_counter()\n",
    "    time_function = end_time - start_time\n",
    "    time_list.append(time_function)\n",
    "\n",
    "def heapsort_worker(arr, time_list):\n",
    "    start_time = time.perf_counter()\n",
    "    heapsort(arr)\n",
    "    end_time = time.perf_counter()\n",
    "    time_function = end_time - start_time\n",
    "    time_list.append(time_function)\n",
    "\n",
    "def quicksort_worker(arr, time_list):\n",
    "    start_time = time.perf_counter()\n",
    "    quicksort(arr, 0, input - 1)\n",
    "    end_time = time.perf_counter()\n",
    "    time_function = end_time - start_time\n",
    "    time_list.append(time_function)\n",
    "\n",
    "def countingsort_worker(arr, time_list):\n",
    "    start_time = time.perf_counter()\n",
    "    countingsort(arr)\n",
    "    end_time = time.perf_counter()\n",
    "    time_function = end_time - start_time\n",
    "    time_list.append(time_function)\n",
    "\n",
    "def radixsort_worker(arr, time_list):\n",
    "    start_time = time.perf_counter()\n",
    "    radixsort(arr)\n",
    "    end_time = time.perf_counter()\n",
    "    time_function = end_time - start_time\n",
    "    time_list.append(time_function)  \n",
    "\n",
    "if __name__ == '__main__':\n",
    "    bubblesort_pool = multiprocessing.Pool()\n",
    "    radixsort_pool = multiprocessing.Pool()\n",
    "\n",
    "    bubblesort_results = []\n",
    "    radixsort_results = []\n",
    "\n",
    "for input in range(2, test_cases + 1):\n",
    "    arr = [random.randint(0, 100) for _ in range(test_cases)]\n",
    "\n",
    "    bubble_arr = list(arr)\n",
    "    selection_arr = list(arr)\n",
    "    insertion_arr = list(arr)\n",
    "    merge_arr = list(arr)\n",
    "    heap_arr = list(arr)\n",
    "    quick_arr = list(arr)\n",
    "    counting_arr = list(arr)\n",
    "    radix_arr = list(arr)\n",
    "\n",
    "    bubble_input.append(input)\n",
    "\n",
    "    bubblesort_process = multiprocessing.Process(target=bubblesort_worker, args=(bubble_arr, bubble_time))\n",
    "    selectionsort_process = multiprocessing.Process(target=selectionsort_worker, args=(selection_arr, selection_time))\n",
    "    insertionsort_process = multiprocessing.Process(target=insertionsort_worker, args=(insertion_arr, insertion_time))\n",
    "    mergesort_process = multiprocessing.Process(target=mergesort_worker, args=(merge_arr, merge_time))\n",
    "    heapsort_process = multiprocessing.Process(target=heapsort_worker, args=(heap_arr, heap_time))\n",
    "    quicksort_process = multiprocessing.Process(target=quicksort_worker, args=(quick_arr, quick_time))\n",
    "    countingsort_process = multiprocessing.Process(target=countingsort_worker, args=(counting_arr, counting_time))\n",
    "    radixsort_process = multiprocessing.Process(target=radixsort_worker, args=(radix_arr, radix_time))\n",
    "\n",
    "    bubblesort_process.start()\n",
    "    selectionsort_process.start()\n",
    "    insertionsort_process.start()\n",
    "    mergesort_process.start() \n",
    "    heapsort_process.start()\n",
    "    quicksort_process.start()\n",
    "    countingsort_process.start()\n",
    "    radixsort_process.start()\n",
    "\n",
    "    bubblesort_process.join()\n",
    "    selectionsort_process.join()\n",
    "    insertionsort_process.join()\n",
    "    mergesort_process.join() \n",
    "    heapsort_process.join()\n",
    "    quicksort_process.join()\n",
    "    countingsort_process.join()\n",
    "    radixsort_process.join()\n",
    "\n",
    "    # print(bubble_time)\n",
    "\n",
    "insertion_input = list(bubble_input)\n",
    "selection_input = list(bubble_input)\n",
    "radix_input = list(bubble_input)\n",
    "counting_input = list(bubble_input)\n",
    "quick_input = list(bubble_input)\n",
    "heap_input = list(bubble_input)\n",
    "merge_input = list(bubble_input)\n",
    "\n",
    "bubble_time = [result.get() for result in bubblesort_results]\n",
    "radix_time = [result.get() for result in radixsort_results]\n",
    "\n",
    "plt.figure(figsize=(30, 10))\n",
    "plt.plot(bubble_input, bubble_time, color=\"blue\", label=\"Bubble sort\")\n",
    "plt.plot(insertion_input, insertion_time, color=\"green\", label=\"Insertion sort\")\n",
    "plt.plot(selection_input, selection_time, color=\"red\", label=\"Selection sort\")\n",
    "plt.plot(merge_input, merge_time, color=\"pink\", label=\"Merge sort\")\n",
    "plt.plot(heap_input, heap_time, color=\"magenta\", label=\"Heap sort\")\n",
    "plt.plot(quick_input, quick_time, color=\"pink\", label=\"Quick sort\")\n",
    "plt.plot(counting_input, counting_time, color=\"aqua\", label=\"Counting sort\")\n",
    "plt.plot(radix_input, radix_time, color=\"black\", label=\"Radix sort\")\n",
    "\n",
    "\n",
    "plt.title(\"Performance Comparison of Sorting Algorithms\")\n",
    "plt.xlabel(\"Number of integers\")\n",
    "plt.ylabel(\"Time (s)\")\n",
    "plt.legend()\n",
    "plt.show()"
   ]
  },
  {
   "cell_type": "code",
   "execution_count": null,
   "id": "a8d05bf5",
   "metadata": {},
   "outputs": [],
   "source": []
  }
 ],
 "metadata": {
  "kernelspec": {
   "display_name": "Python 3 (ipykernel)",
   "language": "python",
   "name": "python3"
  },
  "language_info": {
   "codemirror_mode": {
    "name": "ipython",
    "version": 3
   },
   "file_extension": ".py",
   "mimetype": "text/x-python",
   "name": "python",
   "nbconvert_exporter": "python",
   "pygments_lexer": "ipython3",
   "version": "3.10.11"
  }
 },
 "nbformat": 4,
 "nbformat_minor": 5
}
