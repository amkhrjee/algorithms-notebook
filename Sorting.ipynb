{
 "cells": [
  {
   "cell_type": "markdown",
   "id": "dffa0715-cedd-456f-9a67-cc867da99203",
   "metadata": {},
   "source": [
    "# Sorting\n",
    "This notebook aims to be a reference manual to different kinds of sorting algorithms. \n",
    "The general structure of this notebook is the following: \n",
    "\n",
    "-  Short description\n",
    "- Code\n",
    "- Complexity Analysis\n",
    "\n",
    "This notebook should be used for academic purposes only. \n",
    "\n",
    "We shall start with the simplest of the algorthims and slowly make our way to the more involved ones. "
   ]
  },
  {
   "cell_type": "code",
   "execution_count": 26,
   "id": "223b5bdc-9417-4f92-99e5-ec4df66c38f2",
   "metadata": {},
   "outputs": [
    {
     "name": "stdout",
     "output_type": "stream",
     "text": [
      "Sample array =  [49, 1, 52, 55, 16, 81, 7, 2, 71, 43]\n"
     ]
    }
   ],
   "source": [
    "# Sample Data\n",
    "import random\n",
    "arr = [random.randint(0, 100) for _ in range(10)]\n",
    "print(\"Sample array = \", arr)"
   ]
  },
  {
   "cell_type": "markdown",
   "id": "7fbd76ac-1748-4df2-8fd8-7e79a63f6037",
   "metadata": {},
   "source": [
    "## 1.  Bubble Sort\n",
    "Bubble sort is the simplest of the sorting algorithms. It is also very inefficient, at least for noiseless sorting applications. \n",
    "This algorithm simply goes over the array $n$ times as the smallest values 'bubble up' from the rest of the array elements. It stops when all the items are sorted."
   ]
  },
  {
   "cell_type": "code",
   "execution_count": 19,
   "id": "38609d9a-2744-40f1-b775-22a848466ffb",
   "metadata": {},
   "outputs": [
    {
     "name": "stdout",
     "output_type": "stream",
     "text": [
      "[5, 14, 25, 25, 46, 46, 59, 62, 69, 91]\n"
     ]
    }
   ],
   "source": [
    "def bubblesort(arr):\n",
    "    n = len(arr)\n",
    "    for i in range(n):\n",
    "        for j in range(n-i-1):\n",
    "            if arr[j] > arr[j+1]:\n",
    "                arr[j], arr[j+1] = arr[j+1], arr[j]\n",
    "                \n",
    "bubblesort(arr)\n",
    "print(arr)\n"
   ]
  },
  {
   "cell_type": "markdown",
   "id": "12388bea-78f2-4e75-b17f-6fdbd3592d0f",
   "metadata": {},
   "source": [
    "Bubble sort is a $O(n^2)$ in-place sorting algorithm. "
   ]
  },
  {
   "cell_type": "markdown",
   "id": "69c9668d-df55-4f56-ae0a-3bad5dffb5ef",
   "metadata": {},
   "source": [
    "## 2. Selection Sort\n",
    "Selection sort \"selects\" the  minimum/maximum element from the array and places them in the sorted array. "
   ]
  },
  {
   "cell_type": "code",
   "execution_count": 25,
   "id": "8a1611d3-4056-4bb6-83ce-0fe836620033",
   "metadata": {},
   "outputs": [
    {
     "name": "stdout",
     "output_type": "stream",
     "text": [
      "[5, 14, 25, 25, 46, 46, 59, 62, 91, 91]\n"
     ]
    }
   ],
   "source": [
    "def selectionsort(arr):\n",
    "    n = len(arr)\n",
    "    # sorted_arr = []\n",
    "    for i in range(n):\n",
    "        max = -float('inf')\n",
    "        for j in range(n - i):\n",
    "            if arr[j] > max:\n",
    "                max = arr[j]\n",
    "                max_index = j\n",
    "        arr[max_index], arr[n - i - 1] = arr[n - i - 1], arr[max_index]\n",
    "\n",
    "selectionsort(arr)\n",
    "print(arr)"
   ]
  },
  {
   "cell_type": "markdown",
   "id": "06f5029e-2d53-4099-9c7f-88d09c1722cb",
   "metadata": {},
   "source": [
    "Selection sort is also an $O(n^2)$ in-place sort."
   ]
  }
 ],
 "metadata": {
  "kernelspec": {
   "display_name": "Python 3 (ipykernel)",
   "language": "python",
   "name": "python3"
  },
  "language_info": {
   "codemirror_mode": {
    "name": "ipython",
    "version": 3
   },
   "file_extension": ".py",
   "mimetype": "text/x-python",
   "name": "python",
   "nbconvert_exporter": "python",
   "pygments_lexer": "ipython3",
   "version": "3.10.6"
  }
 },
 "nbformat": 4,
 "nbformat_minor": 5
}
