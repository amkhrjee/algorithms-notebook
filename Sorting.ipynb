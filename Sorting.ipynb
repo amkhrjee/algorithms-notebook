{
 "cells": [
  {
   "attachments": {},
   "cell_type": "markdown",
   "id": "dffa0715-cedd-456f-9a67-cc867da99203",
   "metadata": {},
   "source": [
    "# Sorting Algorithms\n",
    "This notebook aims to be a reference manual to different kinds of sorting algorithms. \n",
    "\n",
    "This notebook should be used for academic purposes only. \n",
    "\n",
    "We shall start with the simplest of the algorthims and slowly make our way to the more involved ones. "
   ]
  },
  {
   "cell_type": "code",
   "execution_count": 2,
   "id": "223b5bdc-9417-4f92-99e5-ec4df66c38f2",
   "metadata": {},
   "outputs": [],
   "source": [
    "# Common imports\n",
    "import random"
   ]
  },
  {
   "attachments": {},
   "cell_type": "markdown",
   "id": "6ea4d950-131e-4438-979d-22b017bc314c",
   "metadata": {},
   "source": [
    "## 0. Bogosort\n",
    "As the name suggests, it is a \"bogous\" sort that is more of a running joke than an algorithm. It has a complexity of $O(n!)$. It simply checks all permutations of the array until it's sorted."
   ]
  },
  {
   "cell_type": "code",
   "execution_count": 12,
   "id": "0322aa2c-831d-4e85-985d-bd074a8c498d",
   "metadata": {},
   "outputs": [
    {
     "name": "stdout",
     "output_type": "stream",
     "text": [
      "Sample array =  [0, 91, 42, 4, 34, 33, 7, 78, 6, 78]\n"
     ]
    },
    {
     "data": {
      "text/plain": [
       "[0, 4, 6, 7, 33, 34, 42, 78, 78, 91]"
      ]
     },
     "execution_count": 12,
     "metadata": {},
     "output_type": "execute_result"
    }
   ],
   "source": [
    "arr = [random.randint(0, 100) for _ in range(10)]\n",
    "print(\"Sample array = \", arr)\n",
    "def bogosort(arr):\n",
    "    sorted = False\n",
    "    while not sorted:\n",
    "        random.shuffle(arr)\n",
    "        sorted = True\n",
    "        for i in range(1, len(arr)):\n",
    "            if arr[i-1] > arr[i]:\n",
    "                sorted = False\n",
    "                break\n",
    "    return arr\n",
    "bogosort(arr)"
   ]
  },
  {
   "attachments": {},
   "cell_type": "markdown",
   "id": "7fbd76ac-1748-4df2-8fd8-7e79a63f6037",
   "metadata": {},
   "source": [
    "## 1.  Bubble Sort\n",
    "Bubble sort is the simplest of the sorting algorithms. It is also very inefficient, at least for noiseless sorting applications. \n",
    "This algorithm simply goes over the array $n$ times as the smallest values 'bubble up' from the rest of the array elements. It stops when all the items are sorted."
   ]
  },
  {
   "cell_type": "code",
   "execution_count": 4,
   "id": "38609d9a-2744-40f1-b775-22a848466ffb",
   "metadata": {},
   "outputs": [
    {
     "name": "stdout",
     "output_type": "stream",
     "text": [
      "Sample array =  [51, 92, 36, 11, 99, 37, 68, 97, 76, 32]\n"
     ]
    },
    {
     "data": {
      "text/plain": [
       "[11, 32, 36, 37, 51, 68, 76, 92, 97, 99]"
      ]
     },
     "execution_count": 4,
     "metadata": {},
     "output_type": "execute_result"
    }
   ],
   "source": [
    "arr = [random.randint(0, 100) for _ in range(10)]\n",
    "print(\"Sample array = \", arr)\n",
    "def bubblesort(arr):\n",
    "    n = len(arr)\n",
    "    for i in range(n):\n",
    "        for j in range(n-i-1):\n",
    "            if arr[j] > arr[j+1]:\n",
    "                arr[j], arr[j+1] = arr[j+1], arr[j]\n",
    "    return arr\n",
    "                \n",
    "bubblesort(arr)"
   ]
  },
  {
   "attachments": {},
   "cell_type": "markdown",
   "id": "12388bea-78f2-4e75-b17f-6fdbd3592d0f",
   "metadata": {},
   "source": [
    "Bubble sort is a $O(n^2)$ in-place sorting algorithm. "
   ]
  },
  {
   "attachments": {},
   "cell_type": "markdown",
   "id": "69c9668d-df55-4f56-ae0a-3bad5dffb5ef",
   "metadata": {},
   "source": [
    "## 2. Selection Sort\n",
    "Selection sort \"selects\" the  minimum/maximum element from the array and places them in the sorted array. "
   ]
  },
  {
   "cell_type": "code",
   "execution_count": 5,
   "id": "8a1611d3-4056-4bb6-83ce-0fe836620033",
   "metadata": {},
   "outputs": [
    {
     "name": "stdout",
     "output_type": "stream",
     "text": [
      "Sample array =  [11, 50, 28, 54, 100, 76, 79, 31, 99, 39]\n"
     ]
    },
    {
     "data": {
      "text/plain": [
       "[11, 28, 31, 39, 50, 54, 76, 79, 99, 100]"
      ]
     },
     "execution_count": 5,
     "metadata": {},
     "output_type": "execute_result"
    }
   ],
   "source": [
    "arr = [random.randint(0, 100) for _ in range(10)]\n",
    "print(\"Sample array = \", arr)\n",
    "def selectionsort(arr):\n",
    "    n = len(arr)\n",
    "    for i in range(n):\n",
    "        max = -float('inf')\n",
    "        for j in range(n - i):\n",
    "            if arr[j] > max:\n",
    "                max = arr[j]\n",
    "                max_index = j\n",
    "        arr[max_index], arr[n - i - 1] = arr[n - i - 1], arr[max_index]\n",
    "    return arr\n",
    "\n",
    "selectionsort(arr)"
   ]
  },
  {
   "attachments": {},
   "cell_type": "markdown",
   "id": "06f5029e-2d53-4099-9c7f-88d09c1722cb",
   "metadata": {},
   "source": [
    "Selection sort is also an $O(n^2)$ in-place sort."
   ]
  },
  {
   "attachments": {},
   "cell_type": "markdown",
   "id": "c79872bc-86c0-4830-9ea1-9044588702ef",
   "metadata": {},
   "source": [
    "## 3. Insertion sort\n",
    "Insertion sort \"inserts\" appropriate values to an already sorted array. As an inital case, it assumes that the first element is already sorted."
   ]
  },
  {
   "cell_type": "code",
   "execution_count": 6,
   "id": "af195ed9-37a1-45a8-930b-01d2fce56b36",
   "metadata": {},
   "outputs": [
    {
     "name": "stdout",
     "output_type": "stream",
     "text": [
      "Sample array =  [24, 44, 30, 78, 13, 51, 87, 73, 46, 84]\n"
     ]
    },
    {
     "data": {
      "text/plain": [
       "[13, 24, 30, 44, 46, 51, 73, 78, 84, 87]"
      ]
     },
     "execution_count": 6,
     "metadata": {},
     "output_type": "execute_result"
    }
   ],
   "source": [
    "arr = [random.randint(0, 100) for _ in range(10)]\n",
    "print(\"Sample array = \", arr)\n",
    "def insertionsort(arr):\n",
    "    n = len(arr)\n",
    "    for i in range(n):\n",
    "        min = float('inf')\n",
    "        for j in range(i, n):\n",
    "            if arr[j] < min:\n",
    "                min = arr[j]\n",
    "                arr[j], arr[i] = arr[i], arr[j]\n",
    "    return arr\n",
    "\n",
    "insertionsort(arr)"
   ]
  },
  {
   "attachments": {},
   "cell_type": "markdown",
   "id": "7c27e9ff-41b6-450f-bd40-0f04f2babe98",
   "metadata": {},
   "source": [
    "This is also an $O(n^2)$ algorithm."
   ]
  },
  {
   "attachments": {},
   "cell_type": "markdown",
   "id": "9400ab76-17f1-4aa3-ab80-7b93a0954324",
   "metadata": {},
   "source": [
    "## 4. Merge Sort\n",
    "This is a classic divide-and-conquer algorithm that divides the array into two subarrays at each stage. \n",
    "This algorithm has the following recurrence relation: $$T(n) = 2T(n/2) + O(n)$$\n",
    "\n",
    "Using master's theorem, we can solve this recurrence to be $O(n \\log n)$, thus making this our first logartithmic time algorithm here. In fact, this is the lower bound for sorting algorithms."
   ]
  },
  {
   "cell_type": "code",
   "execution_count": 7,
   "id": "406fa60d-624e-4bdc-8eb7-bee8742bc18d",
   "metadata": {},
   "outputs": [
    {
     "name": "stdout",
     "output_type": "stream",
     "text": [
      "Sample array =  [35, 16, 51, 18, 71, 49, 6, 47, 65, 16]\n"
     ]
    },
    {
     "data": {
      "text/plain": [
       "[6, 16, 16, 18, 35, 47, 49, 51, 65, 71]"
      ]
     },
     "execution_count": 7,
     "metadata": {},
     "output_type": "execute_result"
    }
   ],
   "source": [
    "arr = [random.randint(0, 100) for _ in range(10)]\n",
    "print(\"Sample array = \", arr)\n",
    "def merge(left, right):\n",
    "    merged = []\n",
    "    i = 0\n",
    "    j = 0\n",
    "    while i < len(left) and j < len(right):\n",
    "        if left[i] <= right[j]:\n",
    "            merged.append(left[i])\n",
    "            i += 1\n",
    "        else:\n",
    "            merged.append(right[j])\n",
    "            j += 1\n",
    "            \n",
    "    while i < len(left):\n",
    "        merged.append(left[i])\n",
    "        i += 1\n",
    "    while j < len(right):\n",
    "        merged.append(right[j])\n",
    "        j += 1\n",
    "        \n",
    "    return merged\n",
    "    \n",
    "def mergesort(arr):\n",
    "    if len(arr) == 1:\n",
    "        return arr\n",
    "    mid = len(arr) // 2\n",
    "    left_half = arr[:mid]\n",
    "    right_half = arr[mid:]\n",
    "\n",
    "    left_half = mergesort(left_half)\n",
    "    right_half = mergesort(right_half)\n",
    "    return merge(left_half, right_half)\n",
    "\n",
    "mergesort(arr)"
   ]
  },
  {
   "attachments": {},
   "cell_type": "markdown",
   "id": "f35e5311",
   "metadata": {},
   "source": [
    "## 5. Heapsort\n",
    "Heap sort is basically selection sort using a min/max heap as the data structure instead of a plain array.\n",
    "Python has an inbuilt library for heap, therfore, we will show this algorithm with that. Building the heap takes $O(n \\log n)$ time, and each pop operation takes $O(\\log n)$ time, thus making this algorithm an $O(n \\log n)$.\n",
    "\n",
    "### Using `heapq`"
   ]
  },
  {
   "cell_type": "code",
   "execution_count": 8,
   "id": "d78005c8",
   "metadata": {},
   "outputs": [
    {
     "name": "stdout",
     "output_type": "stream",
     "text": [
      "Sample array =  [56, 67, 44, 60, 31, 90, 98, 42, 4, 31]\n"
     ]
    },
    {
     "data": {
      "text/plain": [
       "[4, 31, 31, 42, 44, 56, 60, 67, 90, 98]"
      ]
     },
     "execution_count": 8,
     "metadata": {},
     "output_type": "execute_result"
    }
   ],
   "source": [
    "arr = [random.randint(0, 100) for _ in range(10)]\n",
    "print(\"Sample array = \", arr)\n",
    "\n",
    "def heapsort(arr):\n",
    "    import heapq\n",
    "    heapq.heapify(arr)\n",
    "    sorted_arr = []\n",
    "    while len(arr):\n",
    "        sorted_arr.append(heapq.heappop(arr))\n",
    "    return sorted_arr\n",
    "\n",
    "heapsort(arr)"
   ]
  },
  {
   "attachments": {},
   "cell_type": "markdown",
   "id": "5e594fc4",
   "metadata": {},
   "source": [
    "## 6. Quick sort\n",
    "Quick sort is a randomized algorithm with an average time complexity of $O(n \\log n)$. However, in worst case, which is rare, it has a time complexity of $O(n^2)$. The heart of an efficient quicksorrrt implentation lies in the partitioning technique employed. There are two partitioning techniques mentioned in CLRS - Lomuto and Hoare. Other than pedagogical values, the [Lomuto partitioning scheme has little advantage over Hoare](https://cs.stackexchange.com/questions/11458/quicksort-partitioning-hoare-vs-lomuto). "
   ]
  },
  {
   "cell_type": "code",
   "execution_count": 11,
   "id": "f9495cbd",
   "metadata": {},
   "outputs": [
    {
     "name": "stdout",
     "output_type": "stream",
     "text": [
      "Sample array =  [89, 67, 64, 28, 78, 50, 68, 0, 43, 90]\n",
      "[0, 28, 43, 50, 64, 67, 68, 78, 89, 90]\n"
     ]
    }
   ],
   "source": [
    "arr = [random.randint(0, 100) for _ in range(10)]\n",
    "print(\"Sample array = \", arr)\n",
    "\n",
    "def random_partition(arr, start_index, end_index):\n",
    "    i = random.randint(start_index, end_index)\n",
    "    arr[i], arr[end_index] = arr[end_index], arr[i]\n",
    "    return partition(arr, start_index, end_index)\n",
    "\n",
    "def partition(arr, start_index, end_index):\n",
    "    x = arr[end_index]\n",
    "    i = start_index - 1\n",
    "    for j in range(start_index, end_index):\n",
    "        if arr[j] <= x:\n",
    "            i += 1\n",
    "            arr[i], arr[j] = arr[j], arr[i]\n",
    "    arr[i+1], arr[end_index] = arr[end_index], arr[i + 1]\n",
    "    return i + 1\n",
    "\n",
    "def quicksort(arr, start_index, end_index):\n",
    "    if start_index < end_index:\n",
    "        pivot_index = random_partition(arr, start_index, end_index)\n",
    "        quicksort(arr, start_index, pivot_index - 1)\n",
    "        quicksort(arr, pivot_index + 1, end_index)\n",
    "\n",
    "quicksort(arr, 0, len(arr) - 1)\n",
    "print(arr)"
   ]
  },
  {
   "attachments": {},
   "cell_type": "markdown",
   "id": "60a65e4a",
   "metadata": {},
   "source": [
    "## 7. Couting Sort\n",
    "Counting sort works best for arrays with a small range of values. It has a time complexity of $O(n)$. It's only drawback is the auxilary space required sort arrays with a wide range of values."
   ]
  },
  {
   "cell_type": "code",
   "execution_count": 23,
   "id": "29124d1f",
   "metadata": {},
   "outputs": [
    {
     "name": "stdout",
     "output_type": "stream",
     "text": [
      "Sample array = [83, 4, 87, 96, 59, 24, 54, 64, 45, 66]\n"
     ]
    },
    {
     "data": {
      "text/plain": [
       "[4, 24, 45, 54, 59, 64, 66, 83, 87, 96]"
      ]
     },
     "execution_count": 23,
     "metadata": {},
     "output_type": "execute_result"
    }
   ],
   "source": [
    "arr = [random.randint(0, 100) for _ in range(10)]\n",
    "print(\"Sample array =\", arr)\n",
    "\n",
    "def countingsort(arr):\n",
    "    num_bucket = [0 for _ in range(max(arr) + 1)]\n",
    "    for each_num in arr:\n",
    "        num_bucket[each_num] += 1\n",
    "    \n",
    "    sorted_arr = []\n",
    "    for i in range(len(num_bucket)):\n",
    "        if num_bucket[i] > 0:\n",
    "            sorted_arr.extend([i for _ in range(num_bucket[i])])\n",
    "    \n",
    "    return sorted_arr\n",
    "\n",
    "countingsort(arr)"
   ]
  },
  {
   "attachments": {},
   "cell_type": "markdown",
   "id": "07107771",
   "metadata": {},
   "source": [
    "## 8. Radix Sort\n",
    "Till now, we have only seen comparison bases sorts. Radix sort is a non-comparison based sort that relies on digits or radix. It has a time-complxity of $O(k \\cdot n)$ where $k$ is the number of digits in the elements and $n$ is the number of elements."
   ]
  },
  {
   "cell_type": "code",
   "execution_count": 17,
   "metadata": {},
   "outputs": [
    {
     "name": "stdout",
     "output_type": "stream",
     "text": [
      "Sample array = [87, 40, 95, 95, 95, 83, 71, 90, 19, 100]\n"
     ]
    },
    {
     "ename": "KeyboardInterrupt",
     "evalue": "",
     "output_type": "error",
     "traceback": [
      "\u001b[1;31m---------------------------------------------------------------------------\u001b[0m",
      "\u001b[1;31mKeyboardInterrupt\u001b[0m                         Traceback (most recent call last)",
      "Cell \u001b[1;32mIn[17], line 34\u001b[0m\n\u001b[0;32m     30\u001b[0m             prev_index \u001b[39m=\u001b[39m output[each_item]\n\u001b[0;32m     32\u001b[0m         arr \u001b[39m=\u001b[39m output\n\u001b[1;32m---> 34\u001b[0m radixsort(arr)\n\u001b[0;32m     35\u001b[0m \u001b[39mprint\u001b[39m(arr)\n",
      "Cell \u001b[1;32mIn[17], line 25\u001b[0m, in \u001b[0;36mradixsort\u001b[1;34m(arr)\u001b[0m\n\u001b[0;32m     23\u001b[0m \u001b[39mfor\u001b[39;00m each_item \u001b[39min\u001b[39;00m digit_bucket:\n\u001b[0;32m     24\u001b[0m     \u001b[39mif\u001b[39;00m each_item \u001b[39m-\u001b[39m prev_value \u001b[39m!=\u001b[39m \u001b[39m1\u001b[39m:\n\u001b[1;32m---> 25\u001b[0m         \u001b[39mwhile\u001b[39;00m each_item \u001b[39m-\u001b[39;49m prev_value \u001b[39m!=\u001b[39;49m \u001b[39m1\u001b[39;49m:\n\u001b[0;32m     26\u001b[0m             output[each_item] \u001b[39m=\u001b[39m prev_index\n\u001b[0;32m     27\u001b[0m             prev_value \u001b[39m+\u001b[39m\u001b[39m=\u001b[39m \u001b[39m1\u001b[39m    \n",
      "\u001b[1;31mKeyboardInterrupt\u001b[0m: "
     ]
    }
   ],
   "source": [
    "arr = [random.randint(0, 100) for _ in range(10)]\n",
    "print(\"Sample array =\", arr)\n",
    "\n",
    "def radixsort(arr):\n",
    "    for _ in range(len(str(max(arr)))):\n",
    "        output = [0 for _ in range(len(arr))]\n",
    "        digit_bucket = [0 for _ in range(10)]\n",
    "        for each_item in arr:\n",
    "            digit = each_item % 10\n",
    "            each_item = each_item // 10\n",
    "            digit_bucket[digit] += 1\n",
    "        \n",
    "        # cumulative sum of the digit counts\n",
    "        for i in range(1, 10):\n",
    "            digit_bucket[i] += digit_bucket[i - 1]\n",
    "\n",
    "        # shift the bucket values to the right by 1\n",
    "        for i in range(1, 10):\n",
    "            digit_bucket[i] = digit_bucket[i - 1]\n",
    "        digit_bucket[0] = 0\n",
    "\n",
    "        prev_value = -1\n",
    "        for each_item in digit_bucket:\n",
    "            if each_item - prev_value != 1:\n",
    "                while each_item - prev_value != 1:\n",
    "                    output[each_item] = prev_index\n",
    "                    prev_value += 1    \n",
    "            output[each_item] = arr[digit_bucket.index(each_item)]\n",
    "            prev_value = each_item\n",
    "            prev_index = output[each_item]\n",
    "\n",
    "        arr = output\n",
    "    \n",
    "radixsort(arr)\n",
    "print(arr)\n",
    "\n",
    "\n"
   ]
  }
 ],
 "metadata": {
  "kernelspec": {
   "display_name": "Python 3 (ipykernel)",
   "language": "python",
   "name": "python3"
  },
  "language_info": {
   "codemirror_mode": {
    "name": "ipython",
    "version": 3
   },
   "file_extension": ".py",
   "mimetype": "text/x-python",
   "name": "python",
   "nbconvert_exporter": "python",
   "pygments_lexer": "ipython3",
   "version": "3.10.11"
  }
 },
 "nbformat": 4,
 "nbformat_minor": 5
}
