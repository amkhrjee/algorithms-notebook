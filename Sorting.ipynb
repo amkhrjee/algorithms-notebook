{
 "cells": [
  {
   "attachments": {},
   "cell_type": "markdown",
   "id": "dffa0715-cedd-456f-9a67-cc867da99203",
   "metadata": {},
   "source": [
    "# Sorting Algorithms\n",
    "This notebook aims to be a reference manual to different kinds of sorting algorithms. This notebook should be used for academic purposes only. \n",
    "We shall start with the simplest of the algorthims and slowly make our way to the more involved ones. \n",
    "\n",
    "## Useful Resources\n",
    "\n",
    "#### 📺 Videos\n",
    "\n",
    "- [Why is Radix Sort so fast? Miniseries by Creel](https://youtube.com/playlist?list=PLP-tTFRnLIX_3Y8lugE7nfMZq1y17UhLX)\n",
    "\n",
    "#### 📚Books\n",
    "\n",
    "- [Introduction to Algorithms by CLRS](https://mitpress.mit.edu/9780262046305/introduction-to-algorithms/)"
   ]
  },
  {
   "cell_type": "code",
   "execution_count": 1,
   "id": "223b5bdc-9417-4f92-99e5-ec4df66c38f2",
   "metadata": {},
   "outputs": [],
   "source": [
    "# Common imports\n",
    "import random"
   ]
  },
  {
   "attachments": {},
   "cell_type": "markdown",
   "id": "6ea4d950-131e-4438-979d-22b017bc314c",
   "metadata": {},
   "source": [
    "## Bogosort\n",
    "As the name suggests, it is a \"bogous\" sort that is more of a running joke than an algorithm. It has a complexity of $O(n!)$. It simply checks all permutations of the array until it's sorted."
   ]
  },
  {
   "cell_type": "code",
   "execution_count": 2,
   "id": "0322aa2c-831d-4e85-985d-bd074a8c498d",
   "metadata": {},
   "outputs": [
    {
     "name": "stdout",
     "output_type": "stream",
     "text": [
      "Sample array =  [9, 17, 63, 19, 50, 9, 83, 34, 11, 27]\n"
     ]
    },
    {
     "data": {
      "text/plain": [
       "[9, 9, 11, 17, 19, 27, 34, 50, 63, 83]"
      ]
     },
     "execution_count": 2,
     "metadata": {},
     "output_type": "execute_result"
    }
   ],
   "source": [
    "arr = [random.randint(0, 100) for _ in range(10)]\n",
    "print(\"Sample array = \", arr)\n",
    "def bogosort(arr):\n",
    "    sorted = False\n",
    "    while not sorted:\n",
    "        random.shuffle(arr)\n",
    "        sorted = True\n",
    "        for i in range(1, len(arr)):\n",
    "            if arr[i-1] > arr[i]:\n",
    "                sorted = False\n",
    "                break\n",
    "    return arr\n",
    "bogosort(arr)"
   ]
  },
  {
   "attachments": {},
   "cell_type": "markdown",
   "id": "7fbd76ac-1748-4df2-8fd8-7e79a63f6037",
   "metadata": {},
   "source": [
    "## Bubble Sort\n",
    "Bubble sort is the simplest of the sorting algorithms. It is also very inefficient, at least for noiseless sorting applications. \n",
    "This algorithm simply goes over the array $n$ times as the smallest values 'bubble up' from the rest of the array elements. It stops when all the items are sorted."
   ]
  },
  {
   "cell_type": "code",
   "execution_count": 3,
   "id": "38609d9a-2744-40f1-b775-22a848466ffb",
   "metadata": {},
   "outputs": [
    {
     "name": "stdout",
     "output_type": "stream",
     "text": [
      "Sample array =  [73, 73, 13, 41, 41, 17, 83, 77, 28, 65]\n"
     ]
    },
    {
     "data": {
      "text/plain": [
       "[13, 17, 28, 41, 41, 65, 73, 73, 77, 83]"
      ]
     },
     "execution_count": 3,
     "metadata": {},
     "output_type": "execute_result"
    }
   ],
   "source": [
    "arr = [random.randint(0, 100) for _ in range(10)]\n",
    "print(\"Sample array = \", arr)\n",
    "def bubblesort(arr):\n",
    "    n = len(arr)\n",
    "    for i in range(n):\n",
    "        for j in range(n-i-1):\n",
    "            if arr[j] > arr[j+1]:\n",
    "                arr[j], arr[j+1] = arr[j+1], arr[j]\n",
    "    return arr\n",
    "                \n",
    "bubblesort(arr)"
   ]
  },
  {
   "attachments": {},
   "cell_type": "markdown",
   "id": "12388bea-78f2-4e75-b17f-6fdbd3592d0f",
   "metadata": {},
   "source": [
    "Bubble sort is a $O(n^2)$ in-place sorting algorithm. "
   ]
  },
  {
   "attachments": {},
   "cell_type": "markdown",
   "id": "69c9668d-df55-4f56-ae0a-3bad5dffb5ef",
   "metadata": {},
   "source": [
    "## Selection Sort\n",
    "Selection sort \"selects\" the  minimum/maximum element from the array and places them in the sorted array. "
   ]
  },
  {
   "cell_type": "code",
   "execution_count": 4,
   "id": "8a1611d3-4056-4bb6-83ce-0fe836620033",
   "metadata": {},
   "outputs": [
    {
     "name": "stdout",
     "output_type": "stream",
     "text": [
      "Sample array =  [60, 31, 78, 1, 73, 12, 54, 7, 70, 32]\n"
     ]
    },
    {
     "data": {
      "text/plain": [
       "[1, 7, 12, 31, 32, 54, 60, 70, 73, 78]"
      ]
     },
     "execution_count": 4,
     "metadata": {},
     "output_type": "execute_result"
    }
   ],
   "source": [
    "arr = [random.randint(0, 100) for _ in range(10)]\n",
    "print(\"Sample array = \", arr)\n",
    "def selectionsort(arr):\n",
    "    n = len(arr)\n",
    "    for i in range(n):\n",
    "        max = -float('inf')\n",
    "        for j in range(n - i):\n",
    "            if arr[j] > max:\n",
    "                max = arr[j]\n",
    "                max_index = j\n",
    "        arr[max_index], arr[n - i - 1] = arr[n - i - 1], arr[max_index]\n",
    "    return arr\n",
    "\n",
    "selectionsort(arr)"
   ]
  },
  {
   "attachments": {},
   "cell_type": "markdown",
   "id": "06f5029e-2d53-4099-9c7f-88d09c1722cb",
   "metadata": {},
   "source": [
    "Selection sort is also an $O(n^2)$ in-place sort."
   ]
  },
  {
   "attachments": {},
   "cell_type": "markdown",
   "id": "c79872bc-86c0-4830-9ea1-9044588702ef",
   "metadata": {},
   "source": [
    "## Insertion sort\n",
    "Insertion sort \"inserts\" appropriate values to an already sorted array. As an inital case, it assumes that the first element is already sorted."
   ]
  },
  {
   "cell_type": "code",
   "execution_count": 5,
   "id": "af195ed9-37a1-45a8-930b-01d2fce56b36",
   "metadata": {},
   "outputs": [
    {
     "name": "stdout",
     "output_type": "stream",
     "text": [
      "Sample array =  [66, 2, 42, 0, 55, 53, 4, 47, 11, 16]\n"
     ]
    },
    {
     "data": {
      "text/plain": [
       "[0, 2, 4, 11, 16, 42, 47, 53, 55, 66]"
      ]
     },
     "execution_count": 5,
     "metadata": {},
     "output_type": "execute_result"
    }
   ],
   "source": [
    "arr = [random.randint(0, 100) for _ in range(10)]\n",
    "print(\"Sample array = \", arr)\n",
    "def insertionsort(arr):\n",
    "    n = len(arr)\n",
    "    for i in range(n):\n",
    "        min = float('inf')\n",
    "        for j in range(i, n):\n",
    "            if arr[j] < min:\n",
    "                min = arr[j]\n",
    "                arr[j], arr[i] = arr[i], arr[j]\n",
    "    return arr\n",
    "\n",
    "insertionsort(arr)"
   ]
  },
  {
   "attachments": {},
   "cell_type": "markdown",
   "id": "7c27e9ff-41b6-450f-bd40-0f04f2babe98",
   "metadata": {},
   "source": [
    "This is also an $O(n^2)$ algorithm."
   ]
  },
  {
   "attachments": {},
   "cell_type": "markdown",
   "id": "9400ab76-17f1-4aa3-ab80-7b93a0954324",
   "metadata": {},
   "source": [
    "## Merge Sort\n",
    "This is a classic divide-and-conquer algorithm that divides the array into two subarrays at each stage. \n",
    "This algorithm has the following recurrence relation: $$T(n) = 2T(n/2) + O(n)$$\n",
    "\n",
    "Using master's theorem, we can solve this recurrence to be $O(n \\log n)$, thus making this our first logartithmic time algorithm here. In fact, this is the lower bound for sorting algorithms."
   ]
  },
  {
   "cell_type": "code",
   "execution_count": 6,
   "id": "406fa60d-624e-4bdc-8eb7-bee8742bc18d",
   "metadata": {},
   "outputs": [
    {
     "name": "stdout",
     "output_type": "stream",
     "text": [
      "Sample array =  [46, 50, 22, 34, 27, 57, 98, 10, 31, 61]\n"
     ]
    },
    {
     "data": {
      "text/plain": [
       "[10, 22, 27, 31, 34, 46, 50, 57, 61, 98]"
      ]
     },
     "execution_count": 6,
     "metadata": {},
     "output_type": "execute_result"
    }
   ],
   "source": [
    "arr = [random.randint(0, 100) for _ in range(10)]\n",
    "print(\"Sample array = \", arr)\n",
    "def merge(left, right):\n",
    "    merged = []\n",
    "    i = 0\n",
    "    j = 0\n",
    "    while i < len(left) and j < len(right):\n",
    "        if left[i] <= right[j]:\n",
    "            merged.append(left[i])\n",
    "            i += 1\n",
    "        else:\n",
    "            merged.append(right[j])\n",
    "            j += 1\n",
    "            \n",
    "    while i < len(left):\n",
    "        merged.append(left[i])\n",
    "        i += 1\n",
    "    while j < len(right):\n",
    "        merged.append(right[j])\n",
    "        j += 1\n",
    "        \n",
    "    return merged\n",
    "    \n",
    "def mergesort(arr):\n",
    "    if len(arr) == 1:\n",
    "        return arr\n",
    "    mid = len(arr) // 2\n",
    "    left_half = arr[:mid]\n",
    "    right_half = arr[mid:]\n",
    "\n",
    "    left_half = mergesort(left_half)\n",
    "    right_half = mergesort(right_half)\n",
    "    return merge(left_half, right_half)\n",
    "\n",
    "mergesort(arr)"
   ]
  },
  {
   "attachments": {},
   "cell_type": "markdown",
   "id": "f35e5311",
   "metadata": {},
   "source": [
    "## Heapsort\n",
    "Heap sort is basically selection sort using a min/max heap as the data structure instead of a plain array.\n",
    "Python has an inbuilt library for heap, therfore, we will show this algorithm with that. Building the heap takes $O(n \\log n)$ time, and each pop operation takes $O(\\log n)$ time, thus making this algorithm an $O(n \\log n)$.\n",
    "\n",
    "### Using `heapq`"
   ]
  },
  {
   "cell_type": "code",
   "execution_count": 7,
   "id": "d78005c8",
   "metadata": {},
   "outputs": [
    {
     "name": "stdout",
     "output_type": "stream",
     "text": [
      "Sample array =  [44, 49, 34, 22, 53, 14, 49, 41, 4, 78]\n"
     ]
    },
    {
     "data": {
      "text/plain": [
       "[4, 14, 22, 34, 41, 44, 49, 49, 53, 78]"
      ]
     },
     "execution_count": 7,
     "metadata": {},
     "output_type": "execute_result"
    }
   ],
   "source": [
    "arr = [random.randint(0, 100) for _ in range(10)]\n",
    "print(\"Sample array = \", arr)\n",
    "\n",
    "def heapsort(arr):\n",
    "    import heapq\n",
    "    heapq.heapify(arr)\n",
    "    sorted_arr = []\n",
    "    while len(arr):\n",
    "        sorted_arr.append(heapq.heappop(arr))\n",
    "    return sorted_arr\n",
    "\n",
    "heapsort(arr)"
   ]
  },
  {
   "attachments": {},
   "cell_type": "markdown",
   "id": "5e594fc4",
   "metadata": {},
   "source": [
    "## Quick sort\n",
    "Quick sort is a randomized algorithm with an average time complexity of $O(n \\log n)$. However, in worst case, which is rare, it has a time complexity of $O(n^2)$. The heart of an efficient quicksorrrt implentation lies in the partitioning technique employed. There are two partitioning techniques mentioned in CLRS - Lomuto and Hoare. Other than pedagogical values, the [Lomuto partitioning scheme has little advantage over Hoare](https://cs.stackexchange.com/questions/11458/quicksort-partitioning-hoare-vs-lomuto). "
   ]
  },
  {
   "cell_type": "code",
   "execution_count": 8,
   "id": "f9495cbd",
   "metadata": {},
   "outputs": [
    {
     "name": "stdout",
     "output_type": "stream",
     "text": [
      "Sample array =  [47, 16, 93, 27, 96, 8, 60, 7, 63, 68]\n",
      "[7, 8, 16, 27, 47, 60, 63, 68, 93, 96]\n"
     ]
    }
   ],
   "source": [
    "arr = [random.randint(0, 100) for _ in range(10)]\n",
    "print(\"Sample array = \", arr)\n",
    "\n",
    "def random_partition(arr, start_index, end_index):\n",
    "    i = random.randint(start_index, end_index)\n",
    "    arr[i], arr[end_index] = arr[end_index], arr[i]\n",
    "    return partition(arr, start_index, end_index)\n",
    "\n",
    "def partition(arr, start_index, end_index):\n",
    "    x = arr[end_index]\n",
    "    i = start_index - 1\n",
    "    for j in range(start_index, end_index):\n",
    "        if arr[j] <= x:\n",
    "            i += 1\n",
    "            arr[i], arr[j] = arr[j], arr[i]\n",
    "    arr[i+1], arr[end_index] = arr[end_index], arr[i + 1]\n",
    "    return i + 1\n",
    "\n",
    "def quicksort(arr, start_index, end_index):\n",
    "    if start_index < end_index:\n",
    "        pivot_index = random_partition(arr, start_index, end_index)\n",
    "        quicksort(arr, start_index, pivot_index - 1)\n",
    "        quicksort(arr, pivot_index + 1, end_index)\n",
    "\n",
    "quicksort(arr, 0, len(arr) - 1)\n",
    "print(arr)"
   ]
  },
  {
   "attachments": {},
   "cell_type": "markdown",
   "id": "60a65e4a",
   "metadata": {},
   "source": [
    "## Counting Sort\n",
    "Till now, we have only seen comparison bases sorts. Now let's dive into a non-comparison bases sorting technique. Counting sort works best for arrays with a small range of values. It has a time complexity of $O(n)$. It's only drawback is the auxilary space required sort arrays with a wide range of values."
   ]
  },
  {
   "cell_type": "code",
   "execution_count": 9,
   "id": "29124d1f",
   "metadata": {},
   "outputs": [
    {
     "name": "stdout",
     "output_type": "stream",
     "text": [
      "Sample array = [14, 84, 19, 86, 18, 6, 65, 39, 24, 90]\n"
     ]
    },
    {
     "data": {
      "text/plain": [
       "[6, 14, 18, 19, 24, 39, 65, 84, 86, 90]"
      ]
     },
     "execution_count": 9,
     "metadata": {},
     "output_type": "execute_result"
    }
   ],
   "source": [
    "arr = [random.randint(0, 100) for _ in range(10)]\n",
    "print(\"Sample array =\", arr)\n",
    "\n",
    "def countingsort(arr):\n",
    "    num_bucket = [0 for _ in range(max(arr) + 1)]\n",
    "    for each_num in arr:\n",
    "        num_bucket[each_num] += 1\n",
    "    \n",
    "    sorted_arr = []\n",
    "    for i in range(len(num_bucket)):\n",
    "        if num_bucket[i] > 0:\n",
    "            sorted_arr.extend([i for _ in range(num_bucket[i])])\n",
    "    \n",
    "    return sorted_arr\n",
    "\n",
    "countingsort(arr)"
   ]
  },
  {
   "attachments": {},
   "cell_type": "markdown",
   "id": "07107771",
   "metadata": {},
   "source": [
    "## Radix Sort\n",
    "Radix sort is a non-comparison based sort that relies on digits or radix. It has a time-complxity of $O(k \\cdot n)$ where $k$ is the number of digits in the elements and $n$ is the number of elements."
   ]
  },
  {
   "cell_type": "code",
   "execution_count": 10,
   "metadata": {},
   "outputs": [
    {
     "name": "stdout",
     "output_type": "stream",
     "text": [
      "Sample array = [81, 38, 68, 6, 16, 70, 83, 9, 14, 82]\n"
     ]
    },
    {
     "data": {
      "text/plain": [
       "[6, 9, 14, 16, 38, 68, 70, 81, 82, 83]"
      ]
     },
     "execution_count": 10,
     "metadata": {},
     "output_type": "execute_result"
    }
   ],
   "source": [
    "arr = [random.randint(0, 100) for _ in range(10)]\n",
    "print(\"Sample array =\", arr)\n",
    "\n",
    "def radixsort(arr):\n",
    "    for digit_index in range(len(str(max(arr)))):\n",
    "        output = [0 for _ in range(len(arr))]\n",
    "        digit_bucket = [0 for _ in range(10)]\n",
    "        for each_item in arr:\n",
    "            digit = (each_item // 10 ** digit_index) % 10\n",
    "            digit_bucket[digit] += 1\n",
    "\n",
    "        # prefix sum\n",
    "        for i in range(1, 10):\n",
    "            digit_bucket[i] += digit_bucket[i - 1]\n",
    "\n",
    "        for each_num in reversed(arr):\n",
    "            digit = (each_num // 10 ** digit_index) % 10\n",
    "            output[digit_bucket[digit] - 1] = each_num\n",
    "            digit_bucket[digit] -= 1\n",
    "        arr = output\n",
    "    return arr\n",
    "\n",
    "radixsort(arr)"
   ]
  },
  {
   "attachments": {},
   "cell_type": "markdown",
   "id": "6d4109fe",
   "metadata": {},
   "source": [
    "## Topological Sort\n",
    "We do topolgical sort or topsort for short on Directed Acyclic Graphs (DAGs). It is the topological ordering of nodes with respect to their dependence on each other. Topological sort has many important practical applications including scheduling and dependency management. Topsort of a given DAG is not uniqie however. Any DAG has at least one topological ordering. The usual running time for topsort algorithms is $O(|V| + |E|)$. We will be looking into [Kahn's algorithm](https://en.wikipedia.org/wiki/Topological_sorting#Kahn's_algorithm) here.\n",
    "\n",
    "We perform topsort on the following DAG (courtesy: [William Fiset](https://youtu.be/cIBFEhD77b4))\n",
    "\n",
    "<img src=\"res/dag.png\" alt=\"DAG\" width=500>\n",
    "<!-- ![DAG](res/dag.png) -->"
   ]
  },
  {
   "cell_type": "code",
   "execution_count": 22,
   "id": "0525a61f",
   "metadata": {},
   "outputs": [
    {
     "name": "stdout",
     "output_type": "stream",
     "text": [
      "[0, 9, 13, 0, 3, 9, 13, 2, 10, 1, 6, 4, 7, 11, 5, 12, 8]\n"
     ]
    }
   ],
   "source": [
    "# We define a DAG as an adjacency list with each vertex containing list of vertices an edge is incoming from\n",
    "dag = {\n",
    "    0  : [],\n",
    "    1  : [3],\n",
    "    2  : [0, 9],\n",
    "    3  : [0],\n",
    "    4  : [1, 3],\n",
    "    5  : [4],\n",
    "    6  : [0, 2, 10],\n",
    "    7  : [6],\n",
    "    8  : [4, 12],\n",
    "    9  : [],\n",
    "    10 : [9],\n",
    "    11 : [6],\n",
    "    12 : [7, 11],\n",
    "    13 : []\n",
    "}\n",
    "\n",
    "def topsort(dag):\n",
    "    from collections import deque\n",
    "    sorted_list = []\n",
    "    vert_with_no_incoming_edges = deque([])\n",
    "\n",
    "    for each_vertex in dag:\n",
    "        if len(dag[each_vertex]) == 0:\n",
    "            vert_with_no_incoming_edges.append(each_vertex)\n",
    "    while len(vert_with_no_incoming_edges) > 0: \n",
    "        vertex = vert_with_no_incoming_edges.popleft()\n",
    "        sorted_list.append(vertex)\n",
    "        for each_vertex in dag:\n",
    "            if dag[each_vertex] is not None:\n",
    "                if vertex in dag[each_vertex]:\n",
    "                    dag[each_vertex].remove(vertex)\n",
    "                if len(dag[each_vertex]) == 0:\n",
    "                    dag[each_vertex] = None\n",
    "                    vert_with_no_incoming_edges.append(each_vertex)\n",
    "    return sorted_list\n",
    "\n",
    "print(topsort(dag))\n"
   ]
  }
 ],
 "metadata": {
  "kernelspec": {
   "display_name": "Python 3 (ipykernel)",
   "language": "python",
   "name": "python3"
  },
  "language_info": {
   "codemirror_mode": {
    "name": "ipython",
    "version": 3
   },
   "file_extension": ".py",
   "mimetype": "text/x-python",
   "name": "python",
   "nbconvert_exporter": "python",
   "pygments_lexer": "ipython3",
   "version": "3.10.9"
  }
 },
 "nbformat": 4,
 "nbformat_minor": 5
}
