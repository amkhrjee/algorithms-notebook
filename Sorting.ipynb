{
 "cells": [
  {
   "attachments": {},
   "cell_type": "markdown",
   "id": "dffa0715-cedd-456f-9a67-cc867da99203",
   "metadata": {},
   "source": [
    "# Sorting Algorithms\n",
    "This notebook aims to be a reference manual to different kinds of sorting algorithms. \n",
    "\n",
    "This notebook should be used for academic purposes only. \n",
    "\n",
    "We shall start with the simplest of the algorthims and slowly make our way to the more involved ones. "
   ]
  },
  {
   "cell_type": "code",
   "execution_count": 6,
   "id": "223b5bdc-9417-4f92-99e5-ec4df66c38f2",
   "metadata": {},
   "outputs": [
    {
     "name": "stdout",
     "output_type": "stream",
     "text": [
      "Sample array =  [12, 63, 38, 37, 71, 33, 77, 3, 59, 100]\n"
     ]
    }
   ],
   "source": [
    "# Sample Data\n",
    "import random"
   ]
  },
  {
   "attachments": {},
   "cell_type": "markdown",
   "id": "6ea4d950-131e-4438-979d-22b017bc314c",
   "metadata": {},
   "source": [
    "## 0. Bogosort\n",
    "As the name suggests, it is a \"bogous\" sort that is more of a running joke than an algorithm. It has a complexity of $O(n!)$. It simply checks all permutations of the array until it's sorted."
   ]
  },
  {
   "cell_type": "code",
   "execution_count": 19,
   "id": "0322aa2c-831d-4e85-985d-bd074a8c498d",
   "metadata": {},
   "outputs": [
    {
     "name": "stdout",
     "output_type": "stream",
     "text": [
      "Sample array =  [56, 45, 10, 49, 93, 30, 56, 33, 28, 5]\n"
     ]
    },
    {
     "data": {
      "text/plain": [
       "[10, 28, 56, 56, 5, 93, 49, 33, 45, 30]"
      ]
     },
     "execution_count": 19,
     "metadata": {},
     "output_type": "execute_result"
    }
   ],
   "source": [
    "arr = [random.randint(0, 100) for _ in range(10)]\n",
    "print(\"Sample array = \", arr)\n",
    "def bogosort(arr):\n",
    "    sorted = False\n",
    "    while not sorted:\n",
    "        for i in range(1, len(arr)):\n",
    "            if arr[i-1] > arr[i]:\n",
    "                random.shuffle(arr)\n",
    "                break\n",
    "        sorted = True\n",
    "    return arr\n",
    "bogosort(arr)"
   ]
  },
  {
   "attachments": {},
   "cell_type": "markdown",
   "id": "7fbd76ac-1748-4df2-8fd8-7e79a63f6037",
   "metadata": {},
   "source": [
    "## 1.  Bubble Sort\n",
    "Bubble sort is the simplest of the sorting algorithms. It is also very inefficient, at least for noiseless sorting applications. \n",
    "This algorithm simply goes over the array $n$ times as the smallest values 'bubble up' from the rest of the array elements. It stops when all the items are sorted."
   ]
  },
  {
   "cell_type": "code",
   "execution_count": 21,
   "id": "38609d9a-2744-40f1-b775-22a848466ffb",
   "metadata": {},
   "outputs": [
    {
     "name": "stdout",
     "output_type": "stream",
     "text": [
      "Sample array =  [26, 30, 70, 92, 17, 60, 17, 75, 72, 19]\n"
     ]
    },
    {
     "data": {
      "text/plain": [
       "[17, 17, 19, 26, 30, 60, 70, 72, 75, 92]"
      ]
     },
     "execution_count": 21,
     "metadata": {},
     "output_type": "execute_result"
    }
   ],
   "source": [
    "arr = [random.randint(0, 100) for _ in range(10)]\n",
    "print(\"Sample array = \", arr)\n",
    "def bubblesort(arr):\n",
    "    n = len(arr)\n",
    "    for i in range(n):\n",
    "        for j in range(n-i-1):\n",
    "            if arr[j] > arr[j+1]:\n",
    "                arr[j], arr[j+1] = arr[j+1], arr[j]\n",
    "    return arr\n",
    "                \n",
    "bubblesort(arr)"
   ]
  },
  {
   "attachments": {},
   "cell_type": "markdown",
   "id": "12388bea-78f2-4e75-b17f-6fdbd3592d0f",
   "metadata": {},
   "source": [
    "Bubble sort is a $O(n^2)$ in-place sorting algorithm. "
   ]
  },
  {
   "attachments": {},
   "cell_type": "markdown",
   "id": "69c9668d-df55-4f56-ae0a-3bad5dffb5ef",
   "metadata": {},
   "source": [
    "## 2. Selection Sort\n",
    "Selection sort \"selects\" the  minimum/maximum element from the array and places them in the sorted array. "
   ]
  },
  {
   "cell_type": "code",
   "execution_count": 22,
   "id": "8a1611d3-4056-4bb6-83ce-0fe836620033",
   "metadata": {},
   "outputs": [
    {
     "name": "stdout",
     "output_type": "stream",
     "text": [
      "Sample array =  [98, 80, 68, 30, 8, 12, 12, 85, 96, 51]\n"
     ]
    },
    {
     "data": {
      "text/plain": [
       "[8, 12, 12, 30, 51, 68, 80, 85, 96, 98]"
      ]
     },
     "execution_count": 22,
     "metadata": {},
     "output_type": "execute_result"
    }
   ],
   "source": [
    "arr = [random.randint(0, 100) for _ in range(10)]\n",
    "print(\"Sample array = \", arr)\n",
    "def selectionsort(arr):\n",
    "    n = len(arr)\n",
    "    for i in range(n):\n",
    "        max = -float('inf')\n",
    "        for j in range(n - i):\n",
    "            if arr[j] > max:\n",
    "                max = arr[j]\n",
    "                max_index = j\n",
    "        arr[max_index], arr[n - i - 1] = arr[n - i - 1], arr[max_index]\n",
    "    return arr\n",
    "\n",
    "selectionsort(arr)"
   ]
  },
  {
   "attachments": {},
   "cell_type": "markdown",
   "id": "06f5029e-2d53-4099-9c7f-88d09c1722cb",
   "metadata": {},
   "source": [
    "Selection sort is also an $O(n^2)$ in-place sort."
   ]
  },
  {
   "attachments": {},
   "cell_type": "markdown",
   "id": "c79872bc-86c0-4830-9ea1-9044588702ef",
   "metadata": {},
   "source": [
    "## 3. Insertion sort\n",
    "Insertion sort \"inserts\" appropriate values to an already sorted array. As an inital case, it assumes that the first element is already sorted."
   ]
  },
  {
   "cell_type": "code",
   "execution_count": 33,
   "id": "af195ed9-37a1-45a8-930b-01d2fce56b36",
   "metadata": {},
   "outputs": [
    {
     "name": "stdout",
     "output_type": "stream",
     "text": [
      "Sample array =  [87, 93, 2, 17, 36, 58, 31, 73, 2, 76]\n"
     ]
    },
    {
     "data": {
      "text/plain": [
       "[2, 2, 17, 31, 36, 58, 73, 76, 87, 93]"
      ]
     },
     "execution_count": 33,
     "metadata": {},
     "output_type": "execute_result"
    }
   ],
   "source": [
    "arr = [random.randint(0, 100) for _ in range(10)]\n",
    "print(\"Sample array = \", arr)\n",
    "def insertionsort(arr):\n",
    "    n = len(arr)\n",
    "    for i in range(n):\n",
    "        min = float('inf')\n",
    "        for j in range(i, n):\n",
    "            if arr[j] < min:\n",
    "                min = arr[j]\n",
    "                arr[j], arr[i] = arr[i], arr[j]\n",
    "    return arr\n",
    "\n",
    "insertionsort(arr)"
   ]
  },
  {
   "attachments": {},
   "cell_type": "markdown",
   "id": "7c27e9ff-41b6-450f-bd40-0f04f2babe98",
   "metadata": {},
   "source": [
    "This is also an $O(n^2)$ algorithm."
   ]
  },
  {
   "attachments": {},
   "cell_type": "markdown",
   "id": "9400ab76-17f1-4aa3-ab80-7b93a0954324",
   "metadata": {},
   "source": [
    "## 4. Merge Sort\n",
    "This is a classic divide-and-conquer algorithm that divides the array into two subarrays at each stage. \n",
    "This algorithm has the following recurrence relation: $$T(n) = 2T(n/2) + O(n)$$\n",
    "\n",
    "Using master's theorem, we can solve this recurrence to be $O(n \\log n)$, thus making this our first logartithmic time algorithm here. In fact, this is the lower bound for sorting algorithms."
   ]
  },
  {
   "cell_type": "code",
   "execution_count": 27,
   "id": "406fa60d-624e-4bdc-8eb7-bee8742bc18d",
   "metadata": {},
   "outputs": [
    {
     "name": "stdout",
     "output_type": "stream",
     "text": [
      "Sample array =  [72, 65, 58, 79, 11, 23, 89, 99, 81, 4]\n"
     ]
    },
    {
     "data": {
      "text/plain": [
       "[4, 11, 23, 58, 65, 72, 79, 81, 89, 99]"
      ]
     },
     "execution_count": 27,
     "metadata": {},
     "output_type": "execute_result"
    }
   ],
   "source": [
    "arr = [random.randint(0, 100) for _ in range(10)]\n",
    "print(\"Sample array = \", arr)\n",
    "def merge(left, right):\n",
    "    merged = []\n",
    "    i = 0\n",
    "    j = 0\n",
    "    while i < len(left) and j < len(right):\n",
    "        if left[i] <= right[j]:\n",
    "            merged.append(left[i])\n",
    "            i += 1\n",
    "        else:\n",
    "            merged.append(right[j])\n",
    "            j += 1\n",
    "            \n",
    "    while i < len(left):\n",
    "        merged.append(left[i])\n",
    "        i += 1\n",
    "    while j < len(right):\n",
    "        merged.append(right[j])\n",
    "        j += 1\n",
    "        \n",
    "    return merged\n",
    "    \n",
    "def mergesort(arr):\n",
    "    if len(arr) == 1:\n",
    "        return arr\n",
    "    mid = len(arr) // 2\n",
    "    left_half = arr[:mid]\n",
    "    right_half = arr[mid:]\n",
    "\n",
    "    left_half = mergesort(left_half)\n",
    "    right_half = mergesort(right_half)\n",
    "    return merge(left_half, right_half)\n",
    "\n",
    "mergesort(arr)"
   ]
  },
  {
   "attachments": {},
   "cell_type": "markdown",
   "id": "f35e5311",
   "metadata": {},
   "source": [
    "## 5. Heapsort\n",
    "Heap sort is basically selection sort using a min/max heap as the data structure instead of a plain array.\n",
    "Python has an inbuilt library for heap, therfore, we will show this algorithm with that.\n",
    "\n",
    "### Using `heapq`"
   ]
  },
  {
   "cell_type": "code",
   "execution_count": 34,
   "id": "d78005c8",
   "metadata": {},
   "outputs": [
    {
     "name": "stdout",
     "output_type": "stream",
     "text": [
      "Sample array =  [58, 68, 78, 43, 84, 76, 93, 27, 74, 70]\n"
     ]
    },
    {
     "data": {
      "text/plain": [
       "[27, 43, 58, 68, 70, 74, 76, 78, 84, 93]"
      ]
     },
     "execution_count": 34,
     "metadata": {},
     "output_type": "execute_result"
    }
   ],
   "source": [
    "arr = [random.randint(0, 100) for _ in range(10)]\n",
    "print(\"Sample array = \", arr)\n",
    "\n",
    "def heapsort(arr):\n",
    "    import heapq\n",
    "    heapq.heapify(arr)\n",
    "    sorted_arr = []\n",
    "    while len(arr):\n",
    "        sorted_arr.append(heapq.heappop(arr))\n",
    "    return sorted_arr\n",
    "\n",
    "heapsort(arr)"
   ]
  }
 ],
 "metadata": {
  "kernelspec": {
   "display_name": "Python 3 (ipykernel)",
   "language": "python",
   "name": "python3"
  },
  "language_info": {
   "codemirror_mode": {
    "name": "ipython",
    "version": 3
   },
   "file_extension": ".py",
   "mimetype": "text/x-python",
   "name": "python",
   "nbconvert_exporter": "python",
   "pygments_lexer": "ipython3",
   "version": "3.10.11"
  }
 },
 "nbformat": 4,
 "nbformat_minor": 5
}
